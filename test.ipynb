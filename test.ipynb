{
 "cells": [
  {
   "cell_type": "code",
   "execution_count": 24,
   "metadata": {},
   "outputs": [],
   "source": [
    "from bs4 import BeautifulSoup\n",
    "from geopy.geocoders import Nominatim\n",
    "from datetime import date\n",
    "import pandas as pd\n",
    "import requests\n",
    "import folium"
   ]
  },
  {
   "cell_type": "code",
   "execution_count": 28,
   "metadata": {},
   "outputs": [],
   "source": [
    "def main(url):\n",
    "    soup = connect(url)\n",
    "    num_pages = int(page_count(soup))\n",
    "    # num_pages = 1 #for test purpose, only one page gathered\n",
    "\n",
    "    for page in range(1,num_pages+1):\n",
    "        parse(connect(url.replace(\"page=1\",f\"page={page}\")))\n",
    "\n",
    "def connect(url):\n",
    "    page = requests.get(url)\n",
    "    soup = BeautifulSoup(page.content, \"html.parser\")\n",
    "\n",
    "    return soup\n",
    "\n",
    "def page_count(soup):\n",
    "    return soup.find_all(\"li\", {\"data-testid\":\"pagination-list-item\"})[-1].text #finding amount of pages by checking last page link number\n",
    "\n",
    "def parse(soup):\n",
    "    cards = soup.find_all(\"div\", {\"data-cy\": \"l-card\"})\n",
    "\n",
    "    card_data(cards)\n",
    "\n",
    "def card_data(cards):\n",
    "    for card in cards:\n",
    "        global df\n",
    "        name = card.find(\"h6\", {\"class\":\"css-16v5mdi er34gjf0\"}).text\n",
    "        price = card.find(\"p\", {\"data-testid\":\"ad-price\"}).text.replace(' ','').replace('zł','')\n",
    "        negotiable = False\n",
    "        if \"donegocjacji\" in price:\n",
    "            price = float(price.strip('donegocjacji'))\n",
    "            negotiable = True\n",
    "        else:\n",
    "            price = float(price)\n",
    "        \n",
    "        size = float(card.find(\"span\", {\"class\":\"css-643j0o\"}).text.split(\" - \")[0].replace(' ','').replace('m²','').replace(',','.'))\n",
    "        mprice = float(card.find(\"span\", {\"class\":\"css-643j0o\"}).text.split(\" - \")[1].replace(' ','').replace('zł/m²',''))\n",
    "        location = card.find(\"p\", {\"data-testid\":\"location-date\"}).text.split(\" - \")[0]\n",
    "        district = None\n",
    "        try:\n",
    "            coords = geolocator.geocode(location)\n",
    "            lat = coords.latitude\n",
    "            lon = coords.longitude\n",
    "        except:\n",
    "            lat = None\n",
    "            lon = None\n",
    "\n",
    "        if \", \" in location:\n",
    "            location = location.split(\", \")[0]\n",
    "            district = card.find(\"p\", {\"data-testid\":\"location-date\"}).text.split(\" - \")[0].split(\", \")[1]\n",
    "\n",
    "        dateposted = card.find(\"p\", {\"data-testid\":\"location-date\"}).text.split(\" - \")[1]\n",
    "        if \"Odświeżono dnia \" in dateposted:\n",
    "            dateposted = dateposted.strip('Odświeżono dnia ')\n",
    "        elif \"Dzisiaj\" in dateposted:\n",
    "            dateposted = date.today()\n",
    "\n",
    "        df.loc[len(df)] = [name,price,size,mprice,location,district,lat,lon,dateposted,negotiable]\n",
    "\n",
    "df = pd.DataFrame(columns=['Name','Price','Size','Mprice','City','District','Lat','Lon','DatePosted','Negotiable'])\n",
    "\n",
    "geolocator = Nominatim(user_agent=\"my_request\")\n",
    "\n",
    "main(\"https://www.olx.pl/nieruchomosci/dzialki/sprzedaz/gdansk/?page=1&search%5Bdist%5D=50&search%5Bfilter_enum_type%5D%5B0%5D=dzialki-budowlane&search%5Bprivate_business%5D=private\")"
   ]
  },
  {
   "attachments": {},
   "cell_type": "markdown",
   "metadata": {},
   "source": [
    "Add separate list for City and coordinates, to avoid repeating search and make all work faster (now it took 5m 37s)"
   ]
  },
  {
   "cell_type": "code",
   "execution_count": 61,
   "metadata": {},
   "outputs": [
    {
     "name": "stdout",
     "output_type": "stream",
     "text": [
      "\n"
     ]
    },
    {
     "data": {
      "text/plain": [
       "'#060505'"
      ]
     },
     "execution_count": 61,
     "metadata": {},
     "output_type": "execute_result"
    }
   ],
   "source": [
    "import colorsys\n",
    "\n",
    "def hls_to_hex(h, l, s):\n",
    "    r,g,b = colorsys.hls_to_rgb(h, l, s)\n",
    "    print()\n",
    "    r_hex = str(hex(round(r*100)))[2:3]\n",
    "    if len(r_hex) == 1:\n",
    "        r_hex = \"0\" + r_hex\n",
    "    g_hex = str(hex(round(g*100)))[2:3]\n",
    "    if len(g_hex) == 1:\n",
    "        g_hex = \"0\" + g_hex\n",
    "    b_hex = str(hex(round(b*100)))[2:3]\n",
    "    if len(b_hex) == 1:\n",
    "        b_hex = \"0\" + b_hex\n",
    "    return f\"#{r_hex}{g_hex}{b_hex}\"\n",
    "\n",
    "hls_to_hex(0/360,0.9,1)"
   ]
  },
  {
   "cell_type": "code",
   "execution_count": 33,
   "metadata": {},
   "outputs": [
    {
     "name": "stdout",
     "output_type": "stream",
     "text": [
      "location not found for Stara Kiszewa Wybud.\n",
      "location not found for Kłosowo Wybudowanie\n"
     ]
    }
   ],
   "source": [
    "map = folium.Map(location=[54.36, 18.63],zoom_start=9)\n",
    "\n",
    "fg = folium.FeatureGroup(name='Działki')\n",
    "\n",
    "df['Mprice'].min()\n",
    "df['Mprice'].max()\n",
    "\n",
    "for index, coordinates in df.iterrows():\n",
    "    try:\n",
    "        fg.add_child(folium.Circle(location=[coordinates[\"Lat\"],coordinates['Lon']],popup=f\"{coordinates['City']}, {coordinates['Mprice']}\",radius=float(coordinates['Mprice']),color=))\n",
    "    except:\n",
    "        print(f\"location not found for {coordinates['City']}\")\n",
    "map.add_child(fg)\n",
    "map.save('analysis.html')"
   ]
  },
  {
   "attachments": {},
   "cell_type": "markdown",
   "metadata": {},
   "source": [
    "remove \"Wybud.\" and \"Wybudowanie\" from name of location"
   ]
  }
 ],
 "metadata": {
  "kernelspec": {
   "display_name": "Python 3",
   "language": "python",
   "name": "python3"
  },
  "language_info": {
   "codemirror_mode": {
    "name": "ipython",
    "version": 3
   },
   "file_extension": ".py",
   "mimetype": "text/x-python",
   "name": "python",
   "nbconvert_exporter": "python",
   "pygments_lexer": "ipython3",
   "version": "3.9.7"
  },
  "orig_nbformat": 4,
  "vscode": {
   "interpreter": {
    "hash": "aee8b7b246df8f9039afb4144a1f6fd8d2ca17a180786b69acc140d282b71a49"
   }
  }
 },
 "nbformat": 4,
 "nbformat_minor": 2
}
